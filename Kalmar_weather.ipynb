{
  "nbformat": 4,
  "nbformat_minor": 0,
  "metadata": {
    "colab": {
      "provenance": [],
      "authorship_tag": "ABX9TyP/QrAGbaamCnC/npmZbwtw",
      "include_colab_link": true
    },
    "kernelspec": {
      "name": "python3",
      "display_name": "Python 3"
    },
    "language_info": {
      "name": "python"
    }
  },
  "cells": [
    {
      "cell_type": "markdown",
      "metadata": {
        "id": "view-in-github",
        "colab_type": "text"
      },
      "source": [
        "<a href=\"https://colab.research.google.com/github/Bit-Slide/Kalmar_weather/blob/main/Kalmar_weather.ipynb\" target=\"_parent\"><img src=\"https://colab.research.google.com/assets/colab-badge.svg\" alt=\"Open In Colab\"/></a>"
      ]
    },
    {
      "cell_type": "code",
      "execution_count": 1,
      "metadata": {
        "colab": {
          "base_uri": "https://localhost:8080/"
        },
        "id": "ST9yvbVfyxtU",
        "outputId": "ccbb791e-6867-468a-f52f-ce48d47df31a"
      },
      "outputs": [
        {
          "output_type": "stream",
          "name": "stdout",
          "text": [
            "Collecting netCDF4\n",
            "  Downloading netCDF4-1.7.2-cp311-cp311-manylinux_2_17_x86_64.manylinux2014_x86_64.whl.metadata (1.8 kB)\n",
            "Collecting cftime (from netCDF4)\n",
            "  Downloading cftime-1.6.4.post1-cp311-cp311-manylinux_2_17_x86_64.manylinux2014_x86_64.whl.metadata (8.7 kB)\n",
            "Requirement already satisfied: certifi in /usr/local/lib/python3.11/dist-packages (from netCDF4) (2025.4.26)\n",
            "Requirement already satisfied: numpy in /usr/local/lib/python3.11/dist-packages (from netCDF4) (2.0.2)\n",
            "Downloading netCDF4-1.7.2-cp311-cp311-manylinux_2_17_x86_64.manylinux2014_x86_64.whl (9.3 MB)\n",
            "\u001b[2K   \u001b[90m━━━━━━━━━━━━━━━━━━━━━━━━━━━━━━━━━━━━━━━━\u001b[0m \u001b[32m9.3/9.3 MB\u001b[0m \u001b[31m54.9 MB/s\u001b[0m eta \u001b[36m0:00:00\u001b[0m\n",
            "\u001b[?25hDownloading cftime-1.6.4.post1-cp311-cp311-manylinux_2_17_x86_64.manylinux2014_x86_64.whl (1.4 MB)\n",
            "\u001b[2K   \u001b[90m━━━━━━━━━━━━━━━━━━━━━━━━━━━━━━━━━━━━━━━━\u001b[0m \u001b[32m1.4/1.4 MB\u001b[0m \u001b[31m60.8 MB/s\u001b[0m eta \u001b[36m0:00:00\u001b[0m\n",
            "\u001b[?25hInstalling collected packages: cftime, netCDF4\n",
            "Successfully installed cftime-1.6.4.post1 netCDF4-1.7.2\n"
          ]
        }
      ],
      "source": [
        "!pip install netCDF4"
      ]
    },
    {
      "cell_type": "code",
      "source": [
        "import pandas as pd\n",
        "import xarray as xr\n",
        "import netCDF4 as nc"
      ],
      "metadata": {
        "id": "9iXBYvzty7lX"
      },
      "execution_count": 2,
      "outputs": []
    },
    {
      "cell_type": "code",
      "source": [
        "file_name = '/content/metno_meps_20220101_20250508.nc'\n",
        "ds = xr.open_dataset(file_name)\n",
        "print(ds)"
      ],
      "metadata": {
        "colab": {
          "base_uri": "https://localhost:8080/"
        },
        "id": "Cj5cRbzky90o",
        "outputId": "471dc497-19b2-405f-91c4-e2d53795f9f2"
      },
      "execution_count": 4,
      "outputs": [
        {
          "output_type": "stream",
          "name": "stdout",
          "text": [
            "<xarray.Dataset> Size: 357MB\n",
            "Dimensions:                 (reference_time: 4849, valid_time: 67, point: 25)\n",
            "Coordinates:\n",
            "    latitude                (point) float64 200B ...\n",
            "    longitude               (point) float64 200B ...\n",
            "  * point                   (point) int64 200B 0 1 2 3 4 5 ... 19 20 21 22 23 24\n",
            "  * reference_time          (reference_time) datetime64[ns] 39kB 2022-01-01 ....\n",
            "  * valid_time              (valid_time) int64 536B 0 1 2 3 4 ... 62 63 64 65 66\n",
            "Data variables:\n",
            "    CloudCover              (reference_time, valid_time, point) float32 32MB ...\n",
            "    RelativeHumidity        (reference_time, valid_time, point) float32 32MB ...\n",
            "    SolarDownwardRadiation  (reference_time, valid_time, point) float64 65MB ...\n",
            "    Temperature             (reference_time, valid_time, point) float32 32MB ...\n",
            "    TotalPrecipitation      (reference_time, valid_time, point) float64 65MB ...\n",
            "    WindDirection           (reference_time, valid_time, point) float32 32MB ...\n",
            "    WindDirection:100       (reference_time, valid_time, point) float32 32MB ...\n",
            "    WindSpeed               (reference_time, valid_time, point) float32 32MB ...\n",
            "    WindSpeed:100           (reference_time, valid_time, point) float32 32MB ...\n"
          ]
        }
      ]
    },
    {
      "cell_type": "code",
      "source": [
        "df = ds.to_dataframe()\n",
        "\n",
        "df = df.reset_index()\n",
        "\n",
        "# In the netcdf file, valid_time is an hour offset from reference_time\n",
        "# Here we reconstruct valid_time into actual timestamps\n",
        "df['valid_time'] = df['reference_time'] + pd.TimedeltaIndex(df['valid_time'],unit=\"hours\")\n",
        "\n",
        "# Recreate index: reference_time, valid_time, point\n",
        "df.index = pd.MultiIndex.from_arrays([\n",
        "    pd.to_datetime(df['reference_time'].values),\n",
        "    pd.to_datetime(df['valid_time'].values),\n",
        "    df['point'].values\n",
        "    ],\n",
        "    names=['reference_time', 'valid_time', 'point']\n",
        ")\n",
        "\n",
        "print(df)"
      ],
      "metadata": {
        "colab": {
          "base_uri": "https://localhost:8080/"
        },
        "id": "LZXvolC3zmfV",
        "outputId": "0dde2c8f-05b4-47aa-dee3-4b5150fcbfc4"
      },
      "execution_count": 5,
      "outputs": [
        {
          "output_type": "stream",
          "name": "stderr",
          "text": [
            "<ipython-input-5-812605cf5aad>:7: FutureWarning: The 'unit' keyword in TimedeltaIndex construction is deprecated and will be removed in a future version. Use pd.to_timedelta instead.\n",
            "  df['valid_time'] = df['reference_time'] + pd.TimedeltaIndex(df['valid_time'],unit=\"hours\")\n"
          ]
        },
        {
          "output_type": "stream",
          "name": "stdout",
          "text": [
            "                                         reference_time          valid_time  \\\n",
            "reference_time valid_time          point                                      \n",
            "2022-01-01     2022-01-01 00:00:00 0         2022-01-01 2022-01-01 00:00:00   \n",
            "                                   1         2022-01-01 2022-01-01 00:00:00   \n",
            "                                   2         2022-01-01 2022-01-01 00:00:00   \n",
            "                                   3         2022-01-01 2022-01-01 00:00:00   \n",
            "                                   4         2022-01-01 2022-01-01 00:00:00   \n",
            "...                                                 ...                 ...   \n",
            "2025-05-08     2025-05-10 18:00:00 20        2025-05-08 2025-05-10 18:00:00   \n",
            "                                   21        2025-05-08 2025-05-10 18:00:00   \n",
            "                                   22        2025-05-08 2025-05-10 18:00:00   \n",
            "                                   23        2025-05-08 2025-05-10 18:00:00   \n",
            "                                   24        2025-05-08 2025-05-10 18:00:00   \n",
            "\n",
            "                                          point  CloudCover  RelativeHumidity  \\\n",
            "reference_time valid_time          point                                        \n",
            "2022-01-01     2022-01-01 00:00:00 0          0    1.000000         98.340500   \n",
            "                                   1          1    1.000000         96.474350   \n",
            "                                   2          2    1.000000         95.059860   \n",
            "                                   3          3    1.000000         91.544235   \n",
            "                                   4          4    0.999878         89.900864   \n",
            "...                                         ...         ...               ...   \n",
            "2025-05-08     2025-05-10 18:00:00 20        20    0.031239         70.754936   \n",
            "                                   21        21    0.084803         70.548553   \n",
            "                                   22        22    0.292360         69.860611   \n",
            "                                   23        23    0.024544         70.961319   \n",
            "                                   24        24   -0.002237         69.860611   \n",
            "\n",
            "                                          SolarDownwardRadiation  Temperature  \\\n",
            "reference_time valid_time          point                                        \n",
            "2022-01-01     2022-01-01 00:00:00 0                         NaN     5.423126   \n",
            "                                   1                         NaN     6.049103   \n",
            "                                   2                         NaN     5.301056   \n",
            "                                   3                         NaN     5.646759   \n",
            "                                   4                         NaN     5.751251   \n",
            "...                                                          ...          ...   \n",
            "2025-05-08     2025-05-10 18:00:00 20                        NaN     7.978180   \n",
            "                                   21                        NaN     7.978180   \n",
            "                                   22                        NaN     7.939392   \n",
            "                                   23                        NaN     7.706818   \n",
            "                                   24                        NaN     8.094452   \n",
            "\n",
            "                                          TotalPrecipitation  WindDirection  \\\n",
            "reference_time valid_time          point                                      \n",
            "2022-01-01     2022-01-01 00:00:00 0                     NaN     280.314423   \n",
            "                                   1                     NaN     288.691040   \n",
            "                                   2                     NaN     282.908234   \n",
            "                                   3                     NaN     288.173767   \n",
            "                                   4                     NaN     290.827393   \n",
            "...                                                      ...            ...   \n",
            "2025-05-08     2025-05-10 18:00:00 20                    NaN      60.267151   \n",
            "                                   21                    NaN      64.346832   \n",
            "                                   22                    NaN      66.464722   \n",
            "                                   23                    NaN      65.276764   \n",
            "                                   24                    NaN      55.566284   \n",
            "\n",
            "                                          WindDirection:100  WindSpeed  \\\n",
            "reference_time valid_time          point                                 \n",
            "2022-01-01     2022-01-01 00:00:00 0             288.903656   5.294002   \n",
            "                                   1             289.531586   4.661318   \n",
            "                                   2             285.107849   3.836656   \n",
            "                                   3             290.233429   4.100504   \n",
            "                                   4             292.151886   4.893443   \n",
            "...                                                     ...        ...   \n",
            "2025-05-08     2025-05-10 18:00:00 20             61.247314   3.120970   \n",
            "                                   21             64.789551   3.244446   \n",
            "                                   22             66.359161   2.441123   \n",
            "                                   23             65.308655   2.463901   \n",
            "                                   24             58.144470   2.765545   \n",
            "\n",
            "                                          WindSpeed:100   latitude  longitude  \n",
            "reference_time valid_time          point                                       \n",
            "2022-01-01     2022-01-01 00:00:00 0           9.233961  56.451329  12.909693  \n",
            "                                   1           9.126311  56.286720  13.945105  \n",
            "                                   2           8.143360  56.832075  13.902374  \n",
            "                                   3           8.822331  56.813507  14.457535  \n",
            "                                   4           9.244451  56.896253  14.509140  \n",
            "...                                                 ...        ...        ...  \n",
            "2025-05-08     2025-05-10 18:00:00 20          3.980869  56.651981  16.282365  \n",
            "                                   21          3.982861  56.635205  16.263886  \n",
            "                                   22          3.438250  56.535811  16.191365  \n",
            "                                   23          3.966107  56.733013  16.298408  \n",
            "                                   24          4.042141  56.702264  16.337868  \n",
            "\n",
            "[8122075 rows x 14 columns]\n"
          ]
        }
      ]
    },
    {
      "cell_type": "code",
      "source": [
        "# Plotting temperature forecast with refernce time 2022-01-01 06:00 for point 0\n",
        "\n",
        "df.loc['2022-01-01 06:00',:,0]['Temperature'].plot()"
      ],
      "metadata": {
        "colab": {
          "base_uri": "https://localhost:8080/",
          "height": 499
        },
        "id": "floUuM0V9boc",
        "outputId": "bead0cdb-3288-4d5c-d855-327498b68bd8"
      },
      "execution_count": 6,
      "outputs": [
        {
          "output_type": "execute_result",
          "data": {
            "text/plain": [
              "<Axes: xlabel='valid_time'>"
            ]
          },
          "metadata": {},
          "execution_count": 6
        },
        {
          "output_type": "display_data",
          "data": {
            "text/plain": [
              "<Figure size 640x480 with 1 Axes>"
            ],
            "image/png": "[encoded data removed]"
          },
          "metadata": {}
        }
      ]
    },
    {
      "cell_type": "code",
      "source": [
        "import xarray as xr\n",
        "import pandas as pd\n",
        "import numpy as np\n",
        "\n",
        "# Kalmar's coordinates\n",
        "kalmar_lat = 56.661389\n",
        "kalmar_lon = 16.362778\n",
        "\n",
        "# Extract latitude and longitude for each point from the dataset for calculation\n",
        "point_lats = ds['latitude'].values\n",
        "point_lons = ds['longitude'].values\n",
        "point_indices = ds['point'].values\n",
        "\n",
        "# Calculate Euclidean distance for each point to Kalmar\n",
        "distances = np.sqrt((point_lats - kalmar_lat)**2 + (point_lons - kalmar_lon)**2)\n",
        "\n",
        "# Find the index of the point closest to Kalmar\n",
        "closest_point_idx_in_coords = np.argmin(distances)\n",
        "closest_point_id = point_indices[closest_point_idx_in_coords]\n",
        "\n",
        "print(f\"Kalmar's Latitude: {kalmar_lat}, Longitude: {kalmar_lon}\")\n",
        "print(f\"Closest point found in data: point={closest_point_id}\")\n",
        "print(f\"Latitude of closest point: {point_lats[closest_point_idx_in_coords]}\")\n",
        "print(f\"Longitude of closest point: {point_lons[closest_point_idx_in_coords]}\")\n",
        "\n",
        "\n",
        "# Filter the DataFrame for the closest point\n",
        "filtered_df = df.loc[pd.IndexSlice[:, :, closest_point_id], :]\n",
        "\n",
        "# Select only CloudCover and WindSpeed, and keep the time indices\n",
        "result_df = filtered_df[['CloudCover', 'WindSpeed']]\n",
        "\n",
        "print(\"\\nFiltered data for Kalmar (CloudCover and WindSpeed):\")\n",
        "print(result_df)"
      ],
      "metadata": {
        "colab": {
          "base_uri": "https://localhost:8080/"
        },
        "id": "sYWLCDwwH7fR",
        "outputId": "77c0930f-c813-4685-a366-705d187a189b"
      },
      "execution_count": 7,
      "outputs": [
        {
          "output_type": "stream",
          "name": "stdout",
          "text": [
            "Kalmar's Latitude: 56.661389, Longitude: 16.362778\n",
            "Closest point found in data: point=14\n",
            "Latitude of closest point: 56.703626\n",
            "Longitude of closest point: 16.37611\n",
            "\n",
            "Filtered data for Kalmar (CloudCover and WindSpeed):\n",
            "                                          CloudCover  WindSpeed\n",
            "reference_time valid_time          point                       \n",
            "2022-01-01     2022-01-01 00:00:00 14       0.471359   5.465876\n",
            "               2022-01-01 01:00:00 14       0.999969   3.643007\n",
            "               2022-01-01 02:00:00 14       0.999725   3.310723\n",
            "               2022-01-01 03:00:00 14       0.999481   3.449114\n",
            "               2022-01-01 04:00:00 14       1.000000   3.728086\n",
            "...                                              ...        ...\n",
            "2025-05-08     2025-05-10 14:00:00 14       0.985333   2.402389\n",
            "               2025-05-10 15:00:00 14       0.819622   2.350534\n",
            "               2025-05-10 16:00:00 14       0.749321   3.113977\n",
            "               2025-05-10 17:00:00 14       0.690736   3.529974\n",
            "               2025-05-10 18:00:00 14      -0.002237   3.486102\n",
            "\n",
            "[324883 rows x 2 columns]\n"
          ]
        }
      ]
    },
    {
      "cell_type": "code",
      "source": [
        "import numpy as np\n",
        "import pandas as pd\n",
        "import xarray as xr # Ensure xarray is imported at the beginning of your Colab notebook if not already\n",
        "\n",
        "# Assuming 'ds' (xarray Dataset) and 'df' (pandas DataFrame) are already loaded and processed\n",
        "# from your previous steps in the Colab notebook.\n",
        "# For example, after running:\n",
        "# file_name = '/content/metno_meps_20220101_20250508.nc'\n",
        "# ds = xr.open_dataset(file_name)\n",
        "# df = ds.to_dataframe()\n",
        "# df = df.reset_index()\n",
        "# df['valid_time'] = df['reference_time'] + pd.to_timedelta(df['valid_time'], unit=\"hours\")\n",
        "# df.index = pd.MultiIndex.from_arrays([\n",
        "#     pd.to_datetime(df['reference_time'].values),\n",
        "#     pd.to_datetime(df['valid_time'].values),\n",
        "#     df['point'].values\n",
        "#     ],\n",
        "#     names=['reference_time', 'valid_time', 'point']\n",
        "# )\n",
        "\n",
        "# 1. Define Kalmar's coordinates\n",
        "kalmar_lat = 56.661389\n",
        "kalmar_lon = 16.362778\n",
        "\n",
        "# 2. Extract unique latitude and longitude for each 'point' from the dataset\n",
        "# 'ds' is better for this as it directly holds the coordinate data for each 'point'\n",
        "point_lats = ds['latitude'].values\n",
        "point_lons = ds['longitude'].values\n",
        "point_indices = ds['point'].values\n",
        "\n",
        "# 3. Calculate Euclidean distance for each point to Kalmar\n",
        "# This is a good approximation for finding the closest point in a small area\n",
        "distances = np.sqrt((point_lats - kalmar_lat)**2 + (point_lons - kalmar_lon)**2)\n",
        "\n",
        "# 4. Find the 'point' index that corresponds to the minimum distance\n",
        "closest_point_idx_in_coords = np.argmin(distances)\n",
        "closest_point_id = point_indices[closest_point_idx_in_coords]\n",
        "\n",
        "print(f\"Kalmar's Latitude: {kalmar_lat}, Longitude: {kalmar_lon}\")\n",
        "print(f\"Closest point found in data: point={closest_point_id}\")\n",
        "print(f\"Latitude of closest point: {point_lats[closest_point_idx_in_coords]}\")\n",
        "print(f\"Longitude of closest point: {point_lons[closest_point_idx_in_coords]}\")\n",
        "\n",
        "# 5. Filter the DataFrame for the closest point\n",
        "# Use pd.IndexSlice to correctly select across multi-index levels\n",
        "filtered_df_kalmar = df.loc[pd.IndexSlice[:, :, closest_point_id], :]\n",
        "\n",
        "# 6. Select only 'CloudCover' and 'WindSpeed' columns\n",
        "# The time indices (reference_time, valid_time) will be retained automatically\n",
        "kalmar_data_subset = filtered_df_kalmar[['CloudCover', 'WindSpeed']]\n",
        "\n",
        "print(\"\\nFiltered data for Kalmar (CloudCover and WindSpeed):\")\n",
        "print(kalmar_data_subset)\n",
        "\n",
        "# If you want to see the first few rows of the filtered data:\n",
        "# print(kalmar_data_subset.head())"
      ],
      "metadata": {
        "colab": {
          "base_uri": "https://localhost:8080/"
        },
        "id": "0nLG2GcjIvNc",
        "outputId": "df53e853-6801-46bb-ad6e-5ac2747165b7"
      },
      "execution_count": 8,
      "outputs": [
        {
          "output_type": "stream",
          "name": "stdout",
          "text": [
            "Kalmar's Latitude: 56.661389, Longitude: 16.362778\n",
            "Closest point found in data: point=14\n",
            "Latitude of closest point: 56.703626\n",
            "Longitude of closest point: 16.37611\n",
            "\n",
            "Filtered data for Kalmar (CloudCover and WindSpeed):\n",
            "                                          CloudCover  WindSpeed\n",
            "reference_time valid_time          point                       \n",
            "2022-01-01     2022-01-01 00:00:00 14       0.471359   5.465876\n",
            "               2022-01-01 01:00:00 14       0.999969   3.643007\n",
            "               2022-01-01 02:00:00 14       0.999725   3.310723\n",
            "               2022-01-01 03:00:00 14       0.999481   3.449114\n",
            "               2022-01-01 04:00:00 14       1.000000   3.728086\n",
            "...                                              ...        ...\n",
            "2025-05-08     2025-05-10 14:00:00 14       0.985333   2.402389\n",
            "               2025-05-10 15:00:00 14       0.819622   2.350534\n",
            "               2025-05-10 16:00:00 14       0.749321   3.113977\n",
            "               2025-05-10 17:00:00 14       0.690736   3.529974\n",
            "               2025-05-10 18:00:00 14      -0.002237   3.486102\n",
            "\n",
            "[324883 rows x 2 columns]\n"
          ]
        }
      ]
    },
    {
      "cell_type": "code",
      "source": [
        "# Assuming 'kalmar_data_subset' is the DataFrame you got from the previous step.\n",
        "\n",
        "# Filter the DataFrame for data where 'valid_time' is in the year 2025\n",
        "data_2025 = kalmar_data_subset.loc[pd.IndexSlice[:, '2025', :], :]\n",
        "\n",
        "print(\"\\nFiltered data for Kalmar (CloudCover and WindSpeed) for the year 2025:\")\n",
        "print(data_2025)\n",
        "\n",
        "# To see the number of rows in the filtered data:\n",
        "print(f\"\\nNumber of rows for 2025 data: {len(data_2025)}\")"
      ],
      "metadata": {
        "colab": {
          "base_uri": "https://localhost:8080/"
        },
        "id": "5zmFh6rVJ_4u",
        "outputId": "512af4a7-c23b-4a66-a5ac-89eab84cfde3"
      },
      "execution_count": 9,
      "outputs": [
        {
          "output_type": "stream",
          "name": "stdout",
          "text": [
            "\n",
            "Filtered data for Kalmar (CloudCover and WindSpeed) for the year 2025:\n",
            "                                               CloudCover  WindSpeed\n",
            "reference_time      valid_time          point                       \n",
            "2024-12-29 06:00:00 2025-01-01 00:00:00 14       0.998724  10.167387\n",
            "2024-12-29 12:00:00 2025-01-01 00:00:00 14       0.998724   9.835181\n",
            "                    2025-01-01 01:00:00 14       0.998724  10.419826\n",
            "                    2025-01-01 02:00:00 14       0.998724  10.740067\n",
            "                    2025-01-01 03:00:00 14       0.998724  11.515038\n",
            "...                                                   ...        ...\n",
            "2025-05-08 00:00:00 2025-05-10 14:00:00 14       0.985333   2.402389\n",
            "                    2025-05-10 15:00:00 14       0.819622   2.350534\n",
            "                    2025-05-10 16:00:00 14       0.749321   3.113977\n",
            "                    2025-05-10 17:00:00 14       0.690736   3.529974\n",
            "                    2025-05-10 18:00:00 14      -0.002237   3.486102\n",
            "\n",
            "[34042 rows x 2 columns]\n",
            "\n",
            "Number of rows for 2025 data: 34042\n"
          ]
        }
      ]
    },
    {
      "cell_type": "code",
      "source": [
        "# Assuming 'data_2025' is the DataFrame you filtered in the previous step.\n",
        "\n",
        "# Define the filename for your CSV file\n",
        "output_csv_filename = 'kalmar_weather_2025.csv'\n",
        "\n",
        "# Save the DataFrame to a CSV file\n",
        "# index=True will include the MultiIndex (reference_time, valid_time, point) as columns in the CSV\n",
        "data_2025.to_csv(output_csv_filename, index=True)\n",
        "\n",
        "print(f\"\\nData successfully saved to '{output_csv_filename}'\")\n",
        "print(\"You can download this file from the Colab file browser (folder icon on the left).\")"
      ],
      "metadata": {
        "colab": {
          "base_uri": "https://localhost:8080/"
        },
        "id": "oJAXMU3IKVTu",
        "outputId": "3df4d030-7de2-4ff1-f6a2-bdf8fb6db2b5"
      },
      "execution_count": 10,
      "outputs": [
        {
          "output_type": "stream",
          "name": "stdout",
          "text": [
            "\n",
            "Data successfully saved to 'kalmar_weather_2025.csv'\n",
            "You can download this file from the Colab file browser (folder icon on the left).\n"
          ]
        }
      ]
    }
  ]
}